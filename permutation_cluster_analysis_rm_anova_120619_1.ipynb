{
 "cells": [
  {
   "cell_type": "markdown",
   "metadata": {},
   "source": [
    "The main question is how to calculate permutation test with repeated measures (RM) anova using different clusters (per-defined groups of channels). Similar to the MNE function: https://martinos.org/mne/stable/generated/mne.stats.permutation_cluster_test.html"
   ]
  },
  {
   "cell_type": "code",
   "execution_count": 6,
   "metadata": {},
   "outputs": [],
   "source": [
    "import os, sys\n",
    "import pandas as pd\n",
    "import numpy as np\n",
    "import mne\n",
    "from gc import collect as clear\n",
    "from eelbrain import *\n",
    "\n",
    "try:\n",
    "    if \"winsound\" not in sys.modules:\n",
    "        import winsound\n",
    "    def makeSound(freq = 6000, # Hz\n",
    "              duration = 3000): # millisecond\n",
    "        winsound.Beep(freq, duration)\n",
    "except ImportError:\n",
    "    if \"os\" not in sys.modules:\n",
    "        import winsound\n",
    "    def makeSound():\n",
    "        os.system('say -v Amir''s Task finished!')"
   ]
  },
  {
   "cell_type": "markdown",
   "metadata": {},
   "source": [
    "Importing sample data with pandas.\n",
    "\n",
    "It's 60 files (~260kb per file). 3 groups, 10 couples, 2 repeated measures. \n",
    "\n",
    "To make it simple I used balanced design. My real data is unbalanced. "
   ]
  },
  {
   "cell_type": "markdown",
   "metadata": {},
   "source": [
    "1. The first two columns represents the channels' name\n",
    "2. alpha/beta/gamma represents the PLV values for the pair of channels\n",
    "3. id - couples' number\n",
    "4. group - 1/2/3 the group condition. Between subjects. \n",
    "5. measure - m/f the first/second measure. Within subjects, my repeated measure. "
   ]
  },
  {
   "cell_type": "code",
   "execution_count": 7,
   "metadata": {},
   "outputs": [
    {
     "name": "stdout",
     "output_type": "stream",
     "text": [
      "my shape is: (60, 6, 3844) (file, columns(channel_1, channel_2, alpha, id, group, measure), plv values)\n",
      "[['Fp1-0' 'Fp1-0' 'Fp1-0' ... 'O2-1' 'O2-1' 'O2-1']\n",
      " ['Fp1-0' 'Fp2-0' 'F7-0' ... 'P8-1' 'O1-1' 'O2-1']\n",
      " [0.0 0.007969122912060941 -0.04311775644267104 ... 0.024559873633983688\n",
      "  0.02824765472010002 0.0]\n",
      " [332.0 332.0 332.0 ... 332.0 332.0 332.0]\n",
      " ['st' 'st' 'st' ... 'st' 'st' 'st']\n",
      " ['f' 'f' 'f' ... 'f' 'f' 'f']]\n"
     ]
    }
   ],
   "source": [
    "files = [x[0]+\"/\"+f for x in os.walk(\"data\") for f in x[2] if\n",
    "               f.endswith(\".csv\")] \n",
    "\n",
    "chnames = ['Fp1-0', 'Fp2-0', 'F7-0', 'F8-0', 'F3-0', 'F4-0', 'Fz-0', 'FT9-0', 'FT10-0', 'FC5-0', 'FC1-0',\n",
    " 'FC2-0', 'FC6-0', 'T7-0', 'C3-0', 'Cz-0', 'C4-0', 'T8-0', 'TP9-0', 'CP5-0', 'CP1-0', 'CP2-0',\n",
    " 'CP6-0', 'TP10-0',  'P7-0', 'P3-0', 'Pz-0', 'P4-0', 'P8-0', 'O1-0', 'O2-0', 'Fp1-1', 'Fp2-1',\n",
    " 'F7-1', 'F8-1', 'F3-1', 'F4-1', 'Fz-1', 'FT9-1', 'FT10-1', 'FC5-1', 'FC1-1', 'FC2-1', 'FC6-1',\n",
    " 'T7-1', 'C3-1', 'Cz-1', 'C4-1', 'T8-1', 'TP9-1', 'CP5-1', 'CP1-1', 'CP2-1',  'CP6-1',  'TP10-1',\n",
    " 'P7-1',  'P3-1',  'Pz-1',  'P4-1',  'P8-1',  'O1-1', 'O2-1']\n"
   ]
  },
  {
   "cell_type": "code",
   "execution_count": 28,
   "metadata": {},
   "outputs": [
    {
     "data": {
      "text/plain": [
       "'data/N332_f_conn.csv'"
      ]
     },
     "execution_count": 28,
     "metadata": {},
     "output_type": "execute_result"
    }
   ],
   "source": [
    "files[0]"
   ]
  },
  {
   "cell_type": "code",
   "execution_count": 22,
   "metadata": {},
   "outputs": [],
   "source": [
    "pairs = [(ch, ch2) for i, ch in enumerate(chnames) for ch2 in chnames[i + 1:]]\n",
    "labels = [' '.join(pair) for pair in pairs]\n",
    "\n",
    "connectivity = []\n",
    "for i, pair1 in enumerate(pairs):\n",
    "    for pair2 in pairs[i + 1:]:\n",
    "        ch1, ch2 = pair1\n",
    "        if ch1 in pair2 or ch2 in pair2:\n",
    "            connectivity.append((' '.join(pair1), ' '.join(pair2)))\n"
   ]
  },
  {
   "cell_type": "markdown",
   "metadata": {},
   "source": [
    "Converting channel names from numeric to actual names, changing group names to string, and changing id type to float.\n",
    "\n",
    "The suffix -0 or -1 reflects if it is the first or second participant. "
   ]
  },
  {
   "cell_type": "markdown",
   "metadata": {},
   "source": [
    "**Starting to use *eelbrain**.\n",
    "\n",
    "Creating `ds()` object from my pandas Data.Frame. For string columns I used `factor`, for numeric columns I used `NDVar`. "
   ]
  },
  {
   "cell_type": "markdown",
   "metadata": {},
   "source": [
    "Allowed connectivities between sensors"
   ]
  },
  {
   "cell_type": "code",
   "execution_count": 24,
   "metadata": {},
   "outputs": [],
   "source": [
    "pairs = set()\n",
    "for src, dst in connectivity:\n",
    "    a = labels.index(src)\n",
    "    b = labels.index(dst)\n",
    "    if a < b:\n",
    "        pairs.add((a, b))\n",
    "    else:\n",
    "        pairs.add((b, a))\n",
    "connectivity = np.array(sorted(pairs), np.uint32)\n",
    "sensor_dim = Categorial(\"pair\", labels, connectivity)"
   ]
  },
  {
   "cell_type": "code",
   "execution_count": 27,
   "metadata": {},
   "outputs": [
    {
     "data": {
      "text/plain": [
       "1891"
      ]
     },
     "execution_count": 27,
     "metadata": {},
     "output_type": "execute_result"
    }
   ],
   "source": [
    "len(sensor_dim)"
   ]
  },
  {
   "cell_type": "code",
   "execution_count": 42,
   "metadata": {},
   "outputs": [],
   "source": [
    "rows = []\n",
    "for file in files:\n",
    "    items = file.split('/')[1].split('_')\n",
    "    subject = items[0][1:]\n",
    "    condition = items[1]\n",
    "    group = items[0][1]\n",
    "    \n",
    "    df = pd.read_csv(file, usecols=['channel_1', 'channel_2', \"alpha\"], header=0)\n",
    "    df[[\"channel_1\",\"channel_2\"]] = df[[\"channel_1\",\"channel_2\"]].replace(list(range(62)), chnames)\n",
    "    d = {' '.join((ch1, ch2)): v for ch1, ch2, v in df.values}\n",
    "    data = np.array([d[l] for l in labels])\n",
    "    plv = NDVar(data, sensor_dim)\n",
    "    rows.append([subject, condition, group, plv])"
   ]
  },
  {
   "cell_type": "code",
   "execution_count": 43,
   "metadata": {},
   "outputs": [
    {
     "data": {
      "text/plain": [
       "['332', 'f', '3', <NDVar: 1891 pair>]"
      ]
     },
     "execution_count": 43,
     "metadata": {},
     "output_type": "execute_result"
    }
   ],
   "source": [
    "rows[0]"
   ]
  },
  {
   "cell_type": "code",
   "execution_count": 45,
   "metadata": {},
   "outputs": [],
   "source": [
    "ds = Dataset.from_caselist(['subject', 'condition', 'group', 'plv'], rows)"
   ]
  },
  {
   "cell_type": "code",
   "execution_count": 48,
   "metadata": {},
   "outputs": [],
   "source": [
    "ds.summary()\n",
    "ds['subject'].random = True"
   ]
  },
  {
   "cell_type": "code",
   "execution_count": 49,
   "metadata": {},
   "outputs": [
    {
     "data": {
      "text/plain": [
       "subject   condition   group\n",
       "---------------------------\n",
       "332       f           3    \n",
       "226       f           2    \n",
       "142       m           1    \n",
       "237       m           2    \n",
       "142       f           1    \n",
       "226       m           2    \n",
       "332       m           3    \n",
       "237       f           2    \n",
       "223       m           2    \n",
       "139       f           1    "
      ]
     },
     "execution_count": 49,
     "metadata": {},
     "output_type": "execute_result"
    }
   ],
   "source": [
    "ds.head()"
   ]
  },
  {
   "cell_type": "code",
   "execution_count": 50,
   "metadata": {},
   "outputs": [
    {
     "data": {
      "text/plain": [
       "<NDVar 'plv': 60 case, 1891 pair>"
      ]
     },
     "execution_count": 50,
     "metadata": {},
     "output_type": "execute_result"
    }
   ],
   "source": [
    "ds['plv']"
   ]
  },
  {
   "cell_type": "code",
   "execution_count": 51,
   "metadata": {},
   "outputs": [
    {
     "name": "stderr",
     "output_type": "stream",
     "text": [
      "Permutation test: 100%|██████████| 10000/10000 [00:24<00:00, 415.37 permutations/s]\n"
     ]
    }
   ],
   "source": [
    "res = testnd.anova('plv', 'condition * group * subject(group)', ds=ds, pmin=0.05)"
   ]
  },
  {
   "cell_type": "markdown",
   "metadata": {},
   "source": [
    "Some basic info about my dataset"
   ]
  },
  {
   "cell_type": "code",
   "execution_count": 52,
   "metadata": {},
   "outputs": [
    {
     "data": {
      "text/plain": [
       "#   Effect              f_max      p   sig\n",
       "------------------------------------------\n",
       "0   condition           13.56   .309      \n",
       "1   group               10.03   .190      \n",
       "2   condition x group   11.69   .455      "
      ]
     },
     "execution_count": 52,
     "metadata": {},
     "output_type": "execute_result"
    }
   ],
   "source": [
    "res.table()"
   ]
  },
  {
   "cell_type": "code",
   "execution_count": 58,
   "metadata": {},
   "outputs": [
    {
     "name": "stdout",
     "output_type": "stream",
     "text": [
      "id   v        p        sig   effect   \n",
      "--------------------------------------\n",
      "1    556.99   0.3094         condition\n",
      "1    543.16   0.1904         group    \n"
     ]
    }
   ],
   "source": [
    "print(res.find_clusters(0.4))"
   ]
  },
  {
   "cell_type": "code",
   "execution_count": 57,
   "metadata": {},
   "outputs": [
    {
     "data": {
      "text/plain": [
       "array([0., 0., 0., ..., 0., 0., 0.])"
      ]
     },
     "execution_count": 57,
     "metadata": {},
     "output_type": "execute_result"
    }
   ],
   "source": [
    "res.cluster(1, 'group')"
   ]
  },
  {
   "cell_type": "markdown",
   "metadata": {},
   "source": [
    "If I understood correctly, I should use the `info` attribute to create my clusters.\n",
    "\n",
    "So, let's say I have three clusters for the following channels: \n",
    "1. F4 and F3\n",
    "2. T7, CP5, and P7\n",
    "3. CP6, T8, and P8\n",
    "\n",
    "How can I add and use these clusters? If I want to see if F4*-0* (in my first participant) is related to F3*-1* (in my second participant)? or T7*-0* is related to T7*-1*?"
   ]
  },
  {
   "cell_type": "markdown",
   "metadata": {},
   "source": [
    "Regular RM anova for the data. While it's a bit redundant, I wanted to see that I can run it.  "
   ]
  },
  {
   "cell_type": "code",
   "execution_count": null,
   "metadata": {},
   "outputs": [],
   "source": [
    "print(test.anova(ds[\"alpha\"], ds[\"group\"] * ds[\"measure\"]))"
   ]
  },
  {
   "cell_type": "markdown",
   "metadata": {},
   "source": [
    "Next, I moved to permutation RM anova with clusters. \n",
    "1. I understand that I have some issues with the way I build the NDVar for `id`. I didn't understand how to fix it. \n",
    "2. How should I specify the cluster?  "
   ]
  },
  {
   "cell_type": "code",
   "execution_count": null,
   "metadata": {},
   "outputs": [],
   "source": [
    "print(testnd.anova(ds[\"alpha\"], ds[\"group\"] * ds[\"measure\"] * ds[\"id\"], match=False, samples=100, title=\"RM with permutation:\"))"
   ]
  }
 ],
 "metadata": {
  "kernelspec": {
   "display_name": "Python 3",
   "language": "python",
   "name": "python3"
  },
  "language_info": {
   "codemirror_mode": {
    "name": "ipython",
    "version": 3
   },
   "file_extension": ".py",
   "mimetype": "text/x-python",
   "name": "python",
   "nbconvert_exporter": "python",
   "pygments_lexer": "ipython3",
   "version": "3.6.7"
  }
 },
 "nbformat": 4,
 "nbformat_minor": 2
}
