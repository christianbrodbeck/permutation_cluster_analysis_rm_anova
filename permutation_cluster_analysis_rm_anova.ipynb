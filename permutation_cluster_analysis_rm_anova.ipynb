{
 "cells": [
  {
   "cell_type": "markdown",
   "metadata": {},
   "source": [
    "The main question is how to calculate permutation test with repeated measures (RM) anova using different clusters (per-defined groups of channels). Similar to the MNE function: https://martinos.org/mne/stable/generated/mne.stats.permutation_cluster_test.html"
   ]
  },
  {
   "cell_type": "code",
   "execution_count": 1,
   "metadata": {},
   "outputs": [
    {
     "name": "stderr",
     "output_type": "stream",
     "text": [
      "C:\\Users\\Amir\\Anaconda3\\envs\\mne\\lib\\site-packages\\sklearn\\externals\\joblib\\__init__.py:15: DeprecationWarning: sklearn.externals.joblib is deprecated in 0.21 and will be removed in 0.23. Please import this functionality directly from joblib, which can be installed with: pip install joblib. If this warning is raised when loading pickled models, you may need to re-serialize those models with scikit-learn 0.21+.\n",
      "  warnings.warn(msg, category=DeprecationWarning)\n"
     ]
    }
   ],
   "source": [
    "import os, sys\n",
    "import pandas as pd\n",
    "import numpy as np\n",
    "import mne\n",
    "from gc import collect as clear\n",
    "from eelbrain import *\n",
    "\n",
    "try:\n",
    "    if \"winsound\" not in sys.modules:\n",
    "        import winsound\n",
    "    def makeSound(freq = 6000, # Hz\n",
    "              duration = 3000): # millisecond\n",
    "        winsound.Beep(freq, duration)\n",
    "except ImportError:\n",
    "    if \"os\" not in sys.modules:\n",
    "        import winsound\n",
    "    def makeSound():\n",
    "        os.system('say -v Amir''s Task finished!')"
   ]
  },
  {
   "cell_type": "markdown",
   "metadata": {},
   "source": [
    "Importing sample data with pandas.\n",
    "\n",
    "It's 60 files (~260kb per file). 3 groups, 10 couples, 2 repeated measures. \n",
    "\n",
    "To make it simple I used balanced design. My real data is unbalanced. "
   ]
  },
  {
   "cell_type": "code",
   "execution_count": 2,
   "metadata": {},
   "outputs": [],
   "source": [
    "files = [x[0]+\"/\"+f for x in os.walk(\"data\") for f in x[2] if\n",
    "               f.endswith(\".csv\")] \n",
    "\n",
    "fs = []\n",
    "for file in files:\n",
    "    df = pd.read_csv(file, usecols=['channel_1', 'channel_2', \"alpha\", \"beta\", \"gamma\"], header=0).assign(id = pd.to_numeric(os.path.basename(file)[1:4]), group = pd.to_numeric(os.path.basename(file)[1]), measure = os.path.basename(file)[5])\n",
    "    fs.append(df)\n",
    "\n",
    "fs = pd.concat(fs, axis=0, ignore_index=True) "
   ]
  },
  {
   "cell_type": "markdown",
   "metadata": {},
   "source": [
    "1. The first two columns represents the channels' name\n",
    "2. alpha/beta/gamma represents the PLV values for the pair of channels\n",
    "3. id - couples' number\n",
    "4. group - 1/2/3 the group condition. Between subjects. \n",
    "5. measure - m/f the first/second measure. Within subjects, my repeated measure. "
   ]
  },
  {
   "cell_type": "code",
   "execution_count": 3,
   "metadata": {},
   "outputs": [
    {
     "name": "stdout",
     "output_type": "stream",
     "text": [
      "   channel_1  channel_2     alpha      beta     gamma   id  group measure\n",
      "0          0          0  0.000000  0.000000  0.000000  130      1       f\n",
      "1          0          1  0.310326 -0.132003 -0.417937  130      1       f\n",
      "2          0          2 -0.236271  0.716479  1.399023  130      1       f\n",
      "3          0          3 -0.190521 -0.927311 -1.203056  130      1       f\n",
      "4          0          4 -0.169220 -0.486759 -1.077459  130      1       f\n"
     ]
    }
   ],
   "source": [
    "print(fs.head(5))"
   ]
  },
  {
   "cell_type": "markdown",
   "metadata": {},
   "source": [
    "Converting channel names from numeric to actual names, changing group names to string, and changing id type to float.\n",
    "\n",
    "The suffix -0 or -1 reflects if it is the first or second participant. "
   ]
  },
  {
   "cell_type": "code",
   "execution_count": 4,
   "metadata": {
    "scrolled": false
   },
   "outputs": [
    {
     "name": "stdout",
     "output_type": "stream",
     "text": [
      "  channel_1 channel_2     alpha      beta     gamma     id group measure\n",
      "0     Fp1-0     Fp1-0  0.000000  0.000000  0.000000  130.0    rc       f\n",
      "1     Fp1-0     Fp2-0  0.310326 -0.132003 -0.417937  130.0    rc       f\n",
      "2     Fp1-0      F7-0 -0.236271  0.716479  1.399023  130.0    rc       f\n",
      "3     Fp1-0      F8-0 -0.190521 -0.927311 -1.203056  130.0    rc       f\n",
      "4     Fp1-0      F3-0 -0.169220 -0.486759 -1.077459  130.0    rc       f\n",
      "channel_1     object\n",
      "channel_2     object\n",
      "alpha        float64\n",
      "beta         float64\n",
      "gamma        float64\n",
      "id           float64\n",
      "group         object\n",
      "measure       object\n",
      "dtype: object\n"
     ]
    }
   ],
   "source": [
    "chnames = ['Fp1-0', 'Fp2-0', 'F7-0', 'F8-0', 'F3-0', 'F4-0', 'Fz-0', 'FT9-0', 'FT10-0', 'FC5-0', 'FC1-0',\n",
    " 'FC2-0', 'FC6-0', 'T7-0', 'C3-0', 'Cz-0', 'C4-0', 'T8-0', 'TP9-0', 'CP5-0', 'CP1-0', 'CP2-0',\n",
    " 'CP6-0', 'TP10-0',  'P7-0', 'P3-0', 'Pz-0', 'P4-0', 'P8-0', 'O1-0', 'O2-0', 'Fp1-1', 'Fp2-1',\n",
    " 'F7-1', 'F8-1', 'F3-1', 'F4-1', 'Fz-1', 'FT9-1', 'FT10-1', 'FC5-1', 'FC1-1', 'FC2-1', 'FC6-1',\n",
    " 'T7-1', 'C3-1', 'Cz-1', 'C4-1', 'T8-1', 'TP9-1', 'CP5-1', 'CP1-1', 'CP2-1',  'CP6-1',  'TP10-1',\n",
    " 'P7-1',  'P3-1',  'Pz-1',  'P4-1',  'P8-1',  'O1-1', 'O2-1']\n",
    "\n",
    "fs[[\"channel_1\",\"channel_2\"]] = fs[[\"channel_1\",\"channel_2\"]].replace(list(range(62)), chnames)\n",
    "fs[[\"group\"]] = fs[[\"group\"]].replace([1, 2, 3], [\"rc\", \"bf\", \"st\"])\n",
    "fs[[\"id\"]] = fs[[\"id\"]].astype(float)\n",
    "\n",
    "print(fs.head(5))\n",
    "\n",
    "print(fs.dtypes)"
   ]
  },
  {
   "cell_type": "markdown",
   "metadata": {},
   "source": [
    "**Starting to use *eelbrain**.\n",
    "\n",
    "Creating `ds()` object from my pandas Data.Frame. For string columns I used `factor`, for numeric columns I used `NDVar`. "
   ]
  },
  {
   "cell_type": "code",
   "execution_count": 5,
   "metadata": {},
   "outputs": [],
   "source": [
    "ds = Dataset()\n",
    "\n",
    "for cl, ct in zip(fs.columns, fs.dtypes.values):\n",
    "    if ct != \"object\":\n",
    "        ds[cl] = NDVar(fs[cl].values, dims = (Case))\n",
    "    else:\n",
    "        ds[cl] = Factor(fs[cl].values)\n"
   ]
  },
  {
   "cell_type": "code",
   "execution_count": 6,
   "metadata": {},
   "outputs": [
    {
     "data": {
      "text/plain": [
       "116"
      ]
     },
     "execution_count": 6,
     "metadata": {},
     "output_type": "execute_result"
    }
   ],
   "source": [
    "#Cleaning memory\n",
    "del files, fs, cl, chnames\n",
    "clear()"
   ]
  },
  {
   "cell_type": "markdown",
   "metadata": {},
   "source": [
    "Some basic info about my dataset"
   ]
  },
  {
   "cell_type": "code",
   "execution_count": 7,
   "metadata": {},
   "outputs": [
    {
     "name": "stdout",
     "output_type": "stream",
     "text": [
      "Key         Type     Values                                                                                     \n",
      "----------------------------------------------------------------------------------------------------------------\n",
      "channel_1   Factor   Fp1-0:3720, Fp2-0:3720, F7-0:3720, F8-0:3720, F3-0:3720, F4-0:3720, Fz-0:3720... (62 cells)\n",
      "channel_2   Factor   Fp1-0:3720, Fp2-0:3720, F7-0:3720, F8-0:3720, F3-0:3720, F4-0:3720, Fz-0:3720... (62 cells)\n",
      "alpha       NDVar    ; -2.81701 - 2.95435                                                                       \n",
      "beta        NDVar    ; -2.64505 - 2.59854                                                                       \n",
      "gamma       NDVar    ; -2.73973 - 2.78292                                                                       \n",
      "id          NDVar    ; 130 - 335                                                                                \n",
      "group       Factor   rc:76880, bf:76880, st:76880                                                               \n",
      "measure     Factor   f:115320, m:115320                                                                         \n",
      "----------------------------------------------------------------------------------------------------------------\n",
      "Dataset: 230640 cases\n",
      "channel_1   channel_2   group   measure\n",
      "---------------------------------------\n",
      "Fp1-0       Fp1-0       rc      f      \n",
      "Fp1-0       Fp2-0       rc      f      \n",
      "Fp1-0       F7-0        rc      f      \n",
      "Fp1-0       F8-0        rc      f      \n",
      "Fp1-0       F3-0        rc      f      \n",
      "channel_1   channel_2   group   measure\n",
      "---------------------------------------\n",
      "O2-1        Pz-1        st      m      \n",
      "O2-1        P4-1        st      m      \n",
      "O2-1        P8-1        st      m      \n",
      "O2-1        O1-1        st      m      \n",
      "O2-1        O2-1        st      m      \n"
     ]
    }
   ],
   "source": [
    "print(ds.summary())\n",
    "print(ds.head(5))\n",
    "print(ds.tail(5))"
   ]
  },
  {
   "cell_type": "code",
   "execution_count": 8,
   "metadata": {},
   "outputs": [
    {
     "data": {
      "text/plain": [
       "{}"
      ]
     },
     "execution_count": 8,
     "metadata": {},
     "output_type": "execute_result"
    }
   ],
   "source": [
    "ds.info"
   ]
  },
  {
   "cell_type": "markdown",
   "metadata": {},
   "source": [
    "If I understood correctly, I should use the `info` attribute to create my clusters.\n",
    "\n",
    "So, let's say I have three clusters for the following channels: \n",
    "1. F4 and F3\n",
    "2. T7, CP5, and P7\n",
    "3. CP6, T8, and P8\n",
    "\n",
    "How can I add and use these clusters? If I want to see if F4*-0* (in my first participant) is related to F3*-1* (in my second participant)? or T7*-0* is related to T7*-1*?"
   ]
  },
  {
   "cell_type": "markdown",
   "metadata": {},
   "source": [
    "Regular RM anova for the data. While it's a bit redundant, I wanted to see that I can run it.  "
   ]
  },
  {
   "cell_type": "code",
   "execution_count": 9,
   "metadata": {},
   "outputs": [
    {
     "name": "stdout",
     "output_type": "stream",
     "text": [
      "                        SS       df       MS            F        p\n",
      "------------------------------------------------------------------\n",
      "group              1180.06        2   590.03   1654.67***   < .001\n",
      "measure              79.94        1    79.94    224.19***   < .001\n",
      "group x measure      38.61        2    19.31     54.14***   < .001\n",
      "Residuals         82240.26   230634     0.36                      \n",
      "------------------------------------------------------------------\n",
      "Total             83538.87   230639\n"
     ]
    }
   ],
   "source": [
    "print(test.anova(ds[\"alpha\"], ds[\"group\"] * ds[\"measure\"]))"
   ]
  },
  {
   "cell_type": "markdown",
   "metadata": {},
   "source": [
    "Next, I moved to permutation RM anova with clusters. \n",
    "1. I understand that I have some issues with the way I build the NDVar for `id`. I didn't understand how to fix it. \n",
    "2. How should I specify the cluster?  "
   ]
  },
  {
   "cell_type": "code",
   "execution_count": 10,
   "metadata": {},
   "outputs": [
    {
     "ename": "TypeError",
     "evalue": "object of type 'numpy.float64' has no len()",
     "output_type": "error",
     "traceback": [
      "\u001b[1;31m---------------------------------------------------------------------------\u001b[0m",
      "\u001b[1;31mTypeError\u001b[0m                                 Traceback (most recent call last)",
      "\u001b[1;32m<ipython-input-10-9db806cc2e50>\u001b[0m in \u001b[0;36m<module>\u001b[1;34m\u001b[0m\n\u001b[1;32m----> 1\u001b[1;33m \u001b[0mprint\u001b[0m\u001b[1;33m(\u001b[0m\u001b[0mtestnd\u001b[0m\u001b[1;33m.\u001b[0m\u001b[0manova\u001b[0m\u001b[1;33m(\u001b[0m\u001b[0mds\u001b[0m\u001b[1;33m[\u001b[0m\u001b[1;34m\"alpha\"\u001b[0m\u001b[1;33m]\u001b[0m\u001b[1;33m,\u001b[0m \u001b[0mds\u001b[0m\u001b[1;33m[\u001b[0m\u001b[1;34m\"group\"\u001b[0m\u001b[1;33m]\u001b[0m \u001b[1;33m*\u001b[0m \u001b[0mds\u001b[0m\u001b[1;33m[\u001b[0m\u001b[1;34m\"measure\"\u001b[0m\u001b[1;33m]\u001b[0m \u001b[1;33m*\u001b[0m \u001b[0mds\u001b[0m\u001b[1;33m[\u001b[0m\u001b[1;34m\"id\"\u001b[0m\u001b[1;33m]\u001b[0m\u001b[1;33m,\u001b[0m \u001b[0mmatch\u001b[0m\u001b[1;33m=\u001b[0m\u001b[1;32mFalse\u001b[0m\u001b[1;33m,\u001b[0m \u001b[0msamples\u001b[0m\u001b[1;33m=\u001b[0m\u001b[1;36m100\u001b[0m\u001b[1;33m,\u001b[0m \u001b[0mtitle\u001b[0m\u001b[1;33m=\u001b[0m\u001b[1;34m\"RM with permutation:\"\u001b[0m\u001b[1;33m)\u001b[0m\u001b[1;33m)\u001b[0m\u001b[1;33m\u001b[0m\u001b[1;33m\u001b[0m\u001b[0m\n\u001b[0m",
      "\u001b[1;32m~\\Anaconda3\\envs\\mne\\lib\\site-packages\\eelbrain\\_data_obj.py\u001b[0m in \u001b[0;36m__mul__\u001b[1;34m(self, other)\u001b[0m\n\u001b[0;32m   6713\u001b[0m \u001b[1;33m\u001b[0m\u001b[0m\n\u001b[0;32m   6714\u001b[0m     \u001b[1;32mdef\u001b[0m \u001b[0m__mul__\u001b[0m\u001b[1;33m(\u001b[0m\u001b[0mself\u001b[0m\u001b[1;33m,\u001b[0m \u001b[0mother\u001b[0m\u001b[1;33m)\u001b[0m\u001b[1;33m:\u001b[0m\u001b[1;33m\u001b[0m\u001b[1;33m\u001b[0m\u001b[0m\n\u001b[1;32m-> 6715\u001b[1;33m         \u001b[1;32mreturn\u001b[0m \u001b[0mModel\u001b[0m\u001b[1;33m(\u001b[0m\u001b[1;33m(\u001b[0m\u001b[0mself\u001b[0m\u001b[1;33m,\u001b[0m \u001b[0mother\u001b[0m\u001b[1;33m,\u001b[0m \u001b[0mself\u001b[0m \u001b[1;33m%\u001b[0m \u001b[0mother\u001b[0m\u001b[1;33m)\u001b[0m\u001b[1;33m)\u001b[0m\u001b[1;33m\u001b[0m\u001b[1;33m\u001b[0m\u001b[0m\n\u001b[0m\u001b[0;32m   6716\u001b[0m \u001b[1;33m\u001b[0m\u001b[0m\n\u001b[0;32m   6717\u001b[0m     \u001b[1;32mdef\u001b[0m \u001b[0m__mod__\u001b[0m\u001b[1;33m(\u001b[0m\u001b[0mself\u001b[0m\u001b[1;33m,\u001b[0m \u001b[0mother\u001b[0m\u001b[1;33m)\u001b[0m\u001b[1;33m:\u001b[0m\u001b[1;33m\u001b[0m\u001b[1;33m\u001b[0m\u001b[0m\n",
      "\u001b[1;32m~\\Anaconda3\\envs\\mne\\lib\\site-packages\\eelbrain\\_data_obj.py\u001b[0m in \u001b[0;36m__mod__\u001b[1;34m(self, other)\u001b[0m\n\u001b[0;32m   6718\u001b[0m         \u001b[0mout\u001b[0m \u001b[1;33m=\u001b[0m \u001b[1;33m[\u001b[0m\u001b[1;33m]\u001b[0m\u001b[1;33m\u001b[0m\u001b[1;33m\u001b[0m\u001b[0m\n\u001b[0;32m   6719\u001b[0m         \u001b[1;32mfor\u001b[0m \u001b[0me_self\u001b[0m \u001b[1;32min\u001b[0m \u001b[0mself\u001b[0m\u001b[1;33m.\u001b[0m\u001b[0meffects\u001b[0m\u001b[1;33m:\u001b[0m\u001b[1;33m\u001b[0m\u001b[1;33m\u001b[0m\u001b[0m\n\u001b[1;32m-> 6720\u001b[1;33m             \u001b[1;32mfor\u001b[0m \u001b[0me_other\u001b[0m \u001b[1;32min\u001b[0m \u001b[0mModel\u001b[0m\u001b[1;33m(\u001b[0m\u001b[0mother\u001b[0m\u001b[1;33m)\u001b[0m\u001b[1;33m.\u001b[0m\u001b[0meffects\u001b[0m\u001b[1;33m:\u001b[0m\u001b[1;33m\u001b[0m\u001b[1;33m\u001b[0m\u001b[0m\n\u001b[0m\u001b[0;32m   6721\u001b[0m                 \u001b[1;32mif\u001b[0m \u001b[0misinstance\u001b[0m\u001b[1;33m(\u001b[0m\u001b[0me_self\u001b[0m\u001b[1;33m,\u001b[0m \u001b[0mVar\u001b[0m\u001b[1;33m)\u001b[0m \u001b[1;32mand\u001b[0m \u001b[0misinstance\u001b[0m\u001b[1;33m(\u001b[0m\u001b[0me_other\u001b[0m\u001b[1;33m,\u001b[0m \u001b[0mVar\u001b[0m\u001b[1;33m)\u001b[0m\u001b[1;33m:\u001b[0m\u001b[1;33m\u001b[0m\u001b[1;33m\u001b[0m\u001b[0m\n\u001b[0;32m   6722\u001b[0m                     \u001b[0mout\u001b[0m\u001b[1;33m.\u001b[0m\u001b[0mappend\u001b[0m\u001b[1;33m(\u001b[0m\u001b[0me_self\u001b[0m \u001b[1;33m*\u001b[0m \u001b[0me_other\u001b[0m\u001b[1;33m)\u001b[0m\u001b[1;33m\u001b[0m\u001b[1;33m\u001b[0m\u001b[0m\n",
      "\u001b[1;32m~\\Anaconda3\\envs\\mne\\lib\\site-packages\\eelbrain\\_data_obj.py\u001b[0m in \u001b[0;36m__init__\u001b[1;34m(self, x)\u001b[0m\n\u001b[0;32m   6604\u001b[0m                 \u001b[1;31m# check n_cases\u001b[0m\u001b[1;33m\u001b[0m\u001b[1;33m\u001b[0m\u001b[1;33m\u001b[0m\u001b[0m\n\u001b[0;32m   6605\u001b[0m                 \u001b[1;32mif\u001b[0m \u001b[0mn_cases\u001b[0m \u001b[1;32mis\u001b[0m \u001b[1;32mNone\u001b[0m\u001b[1;33m:\u001b[0m\u001b[1;33m\u001b[0m\u001b[1;33m\u001b[0m\u001b[0m\n\u001b[1;32m-> 6606\u001b[1;33m                     \u001b[0mn_cases\u001b[0m \u001b[1;33m=\u001b[0m \u001b[0mlen\u001b[0m\u001b[1;33m(\u001b[0m\u001b[0me\u001b[0m\u001b[1;33m)\u001b[0m\u001b[1;33m\u001b[0m\u001b[1;33m\u001b[0m\u001b[0m\n\u001b[0m\u001b[0;32m   6607\u001b[0m                 \u001b[1;32melif\u001b[0m \u001b[0mlen\u001b[0m\u001b[1;33m(\u001b[0m\u001b[0me\u001b[0m\u001b[1;33m)\u001b[0m \u001b[1;33m!=\u001b[0m \u001b[0mn_cases\u001b[0m\u001b[1;33m:\u001b[0m\u001b[1;33m\u001b[0m\u001b[1;33m\u001b[0m\u001b[0m\n\u001b[0;32m   6608\u001b[0m                     \u001b[0me0\u001b[0m \u001b[1;33m=\u001b[0m \u001b[0meffects\u001b[0m\u001b[1;33m[\u001b[0m\u001b[1;36m0\u001b[0m\u001b[1;33m]\u001b[0m\u001b[1;33m\u001b[0m\u001b[1;33m\u001b[0m\u001b[0m\n",
      "\u001b[1;31mTypeError\u001b[0m: object of type 'numpy.float64' has no len()"
     ]
    }
   ],
   "source": [
    "print(testnd.anova(ds[\"alpha\"], ds[\"group\"] * ds[\"measure\"] * ds[\"id\"], match=False, samples=100, title=\"RM with permutation:\"))"
   ]
  }
 ],
 "metadata": {
  "kernelspec": {
   "display_name": "Python 3",
   "language": "python",
   "name": "python3"
  },
  "language_info": {
   "codemirror_mode": {
    "name": "ipython",
    "version": 3
   },
   "file_extension": ".py",
   "mimetype": "text/x-python",
   "name": "python",
   "nbconvert_exporter": "python",
   "pygments_lexer": "ipython3",
   "version": "3.7.3"
  }
 },
 "nbformat": 4,
 "nbformat_minor": 2
}
